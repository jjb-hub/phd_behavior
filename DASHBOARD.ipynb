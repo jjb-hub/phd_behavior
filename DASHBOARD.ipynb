{
 "cells": [
  {
   "cell_type": "code",
   "execution_count": null,
   "metadata": {},
   "outputs": [],
   "source": [
    "# from main import *\n",
    "\n",
    "#DEPRICATED see issue #57 #resolve after new file system\n",
    "\n",
    "#BEHQVIOR (HT / ES) #REMI need to intergrate stats logic, outliers, prompts and building multiple at once\n",
    "# headTwitchHistogram(\n",
    "#     HT_filename,\n",
    "#     experiment='dose_response',\n",
    "#     vairable='HT_20',\n",
    "#     outlier_test=None,\n",
    "#     p_value_threshold=0.05,\n",
    "#     from_scratch=True,\n",
    "# )\n",
    "\n",
    "# subselectDf(getHeadTwitchDf(HT_filename), {\"treatment\": \"0.2mg/kgMDL\", \"experiment\": \"agonist_antagonist\"})\n"
   ]
  }
 ],
 "metadata": {
  "language_info": {
   "name": "python"
  }
 },
 "nbformat": 4,
 "nbformat_minor": 2
}
